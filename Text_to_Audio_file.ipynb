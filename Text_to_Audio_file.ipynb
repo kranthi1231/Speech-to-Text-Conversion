{
  "nbformat": 4,
  "nbformat_minor": 0,
  "metadata": {
    "colab": {
      "name": "Text to Audio file.ipynb",
      "provenance": [],
      "authorship_tag": "ABX9TyNL53mXgF+/FivVzRLnfmmj",
      "include_colab_link": true
    },
    "kernelspec": {
      "name": "python3",
      "display_name": "Python 3"
    },
    "language_info": {
      "name": "python"
    }
  },
  "cells": [
    {
      "cell_type": "markdown",
      "metadata": {
        "id": "view-in-github",
        "colab_type": "text"
      },
      "source": [
        "<a href=\"https://colab.research.google.com/github/kranthi1231/Speech-to-Text-Conversion/blob/main/Text_to_Audio_file.ipynb\" target=\"_parent\"><img src=\"https://colab.research.google.com/assets/colab-badge.svg\" alt=\"Open In Colab\"/></a>"
      ]
    },
    {
      "cell_type": "code",
      "source": [
        "pip install gTTs"
      ],
      "metadata": {
        "colab": {
          "base_uri": "https://localhost:8080/"
        },
        "id": "dMa4zMI_d2qL",
        "outputId": "2cb9e3c6-8499-49bd-ce94-a01bee87883d"
      },
      "execution_count": null,
      "outputs": [
        {
          "output_type": "stream",
          "name": "stdout",
          "text": [
            "Collecting gTTs\n",
            "  Downloading gTTS-2.2.3-py3-none-any.whl (25 kB)\n",
            "Requirement already satisfied: click in /usr/local/lib/python3.7/dist-packages (from gTTs) (7.1.2)\n",
            "Requirement already satisfied: six in /usr/local/lib/python3.7/dist-packages (from gTTs) (1.15.0)\n",
            "Requirement already satisfied: requests in /usr/local/lib/python3.7/dist-packages (from gTTs) (2.23.0)\n",
            "Requirement already satisfied: urllib3!=1.25.0,!=1.25.1,<1.26,>=1.21.1 in /usr/local/lib/python3.7/dist-packages (from requests->gTTs) (1.24.3)\n",
            "Requirement already satisfied: certifi>=2017.4.17 in /usr/local/lib/python3.7/dist-packages (from requests->gTTs) (2021.10.8)\n",
            "Requirement already satisfied: chardet<4,>=3.0.2 in /usr/local/lib/python3.7/dist-packages (from requests->gTTs) (3.0.4)\n",
            "Requirement already satisfied: idna<3,>=2.5 in /usr/local/lib/python3.7/dist-packages (from requests->gTTs) (2.10)\n",
            "Installing collected packages: gTTs\n",
            "Successfully installed gTTs-2.2.3\n"
          ]
        }
      ]
    },
    {
      "cell_type": "code",
      "execution_count": null,
      "metadata": {
        "colab": {
          "base_uri": "https://localhost:8080/"
        },
        "id": "MMTOyF7fcWqD",
        "outputId": "66e0f971-d264-4f85-dbe1-ab5c2adb2845"
      },
      "outputs": [
        {
          "output_type": "execute_result",
          "data": {
            "text/plain": [
              "32512"
            ]
          },
          "metadata": {},
          "execution_count": 12
        }
      ],
      "source": [
        "# Import the Gtts module for text  \n",
        "# to speech conversion \n",
        "from gtts import gTTS\n",
        "  \n",
        "# import Os module to start the audio file\n",
        "import os \n",
        "\n",
        "fh = open(\"kranthi.txt\", \"r\")\n",
        "myText = fh.read().replace(\"\\n\", \" \")\n",
        "\n",
        "# Language we want to use \n",
        "language = 'en'\n",
        "\n",
        "output = gTTS(text=myText, lang=language, slow=False)\n",
        "\n",
        "output.save(\"output.mp3\")\n",
        "fh.close()\n",
        "\n",
        "# Play the converted file \n",
        "os.system(\"start output.mp3\")"
      ]
    },
    {
      "cell_type": "code",
      "source": [
        ""
      ],
      "metadata": {
        "id": "gDFl1tybeuj4"
      },
      "execution_count": null,
      "outputs": []
    }
  ]
}